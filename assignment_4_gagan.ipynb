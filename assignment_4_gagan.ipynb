{
  "nbformat": 4,
  "nbformat_minor": 0,
  "metadata": {
    "colab": {
      "name": "assignment_4_gagan",
      "provenance": [],
      "collapsed_sections": [],
      "authorship_tag": "ABX9TyMe5EYXEr6VNJ6PN+YSboCL",
      "include_colab_link": true
    },
    "kernelspec": {
      "name": "python3",
      "display_name": "Python 3"
    },
    "language_info": {
      "name": "python"
    }
  },
  "cells": [
    {
      "cell_type": "markdown",
      "metadata": {
        "id": "view-in-github",
        "colab_type": "text"
      },
      "source": [
        "<a href=\"https://colab.research.google.com/github/gagan2806/python_1/blob/main/assignment_4_gagan.ipynb\" target=\"_parent\"><img src=\"https://colab.research.google.com/assets/colab-badge.svg\" alt=\"Open In Colab\"/></a>"
      ]
    },
    {
      "cell_type": "code",
      "source": [
        "def data(store,customer,*a,**b):\n",
        "  print(store)\n",
        "  print(customer)\n",
        "  print(\"books purchased:\\n\")\n",
        "  for num in a:\n",
        "   print(num)\n",
        "  print(\"\\nFees to be paid for each book:\\n\")\n",
        "  for fee in b:\n",
        "   print(fee,b[fee])\n",
        "data(\"    **Ganesh stores**   \",\"Rahul\",\"programming using python\",\"advanced python developement\",\n",
        "     programming_using_python=200,advanced_python_developement=100)"
      ],
      "metadata": {
        "colab": {
          "base_uri": "https://localhost:8080/"
        },
        "id": "PW53d3Ji0wZs",
        "outputId": "3f526b40-ebac-46aa-ed7c-cc62d66418af"
      },
      "execution_count": null,
      "outputs": [
        {
          "output_type": "stream",
          "name": "stdout",
          "text": [
            "    **Ganesh stores**   \n",
            "Rahul\n",
            "books purchased:\n",
            "\n",
            "programming using python\n",
            "advanced python developement\n",
            "\n",
            "Fees to be paid for each book:\n",
            "\n",
            "programming_using_python 200\n",
            "advanced_python_developement 100\n"
          ]
        }
      ]
    },
    {
      "cell_type": "code",
      "execution_count": null,
      "metadata": {
        "colab": {
          "base_uri": "https://localhost:8080/"
        },
        "id": "-Wcz2ZKJtwCJ",
        "outputId": "ec4016c2-48c2-4d46-fc40-f66de6aa1fb4"
      },
      "outputs": [
        {
          "output_type": "stream",
          "name": "stdout",
          "text": [
            "['tom', 1, 3, 45, 23, 4, 17, 90, 21, 40]\n"
          ]
        }
      ],
      "source": [
        "def data(Teacher,*a):\n",
        "  print(Teacher)\n",
        "  for rollno in a:\n",
        "   a.sorted()\n",
        "   print(rollno)\n",
        "data([\"tom\",1,3,45,23,4,17,90,21,40])\n"
      ]
    },
    {
      "cell_type": "code",
      "source": [
        "def data(Teacher,*a):\n",
        "  print(Teacher)\n",
        "  for rollno in a:\n",
        "   a.sorted(reverse=True)\n",
        "   print(rollno)\n",
        "data([\"tom\",1,3,45,23,4,17,90,21,40])"
      ],
      "metadata": {
        "colab": {
          "base_uri": "https://localhost:8080/"
        },
        "id": "LijUcHDIw_-2",
        "outputId": "3982f4e0-4f75-45dc-bf75-1d5383970313"
      },
      "execution_count": null,
      "outputs": [
        {
          "output_type": "stream",
          "name": "stdout",
          "text": [
            "['tom', 1, 3, 45, 23, 4, 17, 90, 21, 40]\n"
          ]
        }
      ]
    },
    {
      "cell_type": "code",
      "source": [
        "def data(list1):\n",
        " x=[8,5,7,3,4,9]\n",
        " print(\"Unordered list: \", x)\n",
        " x.sort()\n",
        " print(\"Ordered list: \", x)\n",
        " data(8,5,7,3,4,9)"
      ],
      "metadata": {
        "id": "7Aj-l1jiAJYe"
      },
      "execution_count": null,
      "outputs": []
    },
    {
      "cell_type": "code",
      "source": [
        "\n",
        "seq=\"hello\"\n",
        "print(seq.index(\"l(2)\"))\n"
      ],
      "metadata": {
        "colab": {
          "base_uri": "https://localhost:8080/",
          "height": 183
        },
        "id": "QsASbkofLj4x",
        "outputId": "cc089c88-7b2c-40c5-e88a-1b8691b6196f"
      },
      "execution_count": null,
      "outputs": [
        {
          "output_type": "error",
          "ename": "ValueError",
          "evalue": "ignored",
          "traceback": [
            "\u001b[0;31m---------------------------------------------------------------------------\u001b[0m",
            "\u001b[0;31mValueError\u001b[0m                                Traceback (most recent call last)",
            "\u001b[0;32m<ipython-input-65-df140db9e7f2>\u001b[0m in \u001b[0;36m<module>\u001b[0;34m\u001b[0m\n\u001b[1;32m      1\u001b[0m \u001b[0mseq\u001b[0m\u001b[0;34m=\u001b[0m\u001b[0;34m\"hello\"\u001b[0m\u001b[0;34m\u001b[0m\u001b[0;34m\u001b[0m\u001b[0m\n\u001b[0;32m----> 2\u001b[0;31m \u001b[0mprint\u001b[0m\u001b[0;34m(\u001b[0m\u001b[0mseq\u001b[0m\u001b[0;34m.\u001b[0m\u001b[0mindex\u001b[0m\u001b[0;34m(\u001b[0m\u001b[0;34m\"l(2)\"\u001b[0m\u001b[0;34m)\u001b[0m\u001b[0;34m)\u001b[0m\u001b[0;34m\u001b[0m\u001b[0;34m\u001b[0m\u001b[0m\n\u001b[0m",
            "\u001b[0;31mValueError\u001b[0m: substring not found"
          ]
        }
      ]
    }
  ]
}