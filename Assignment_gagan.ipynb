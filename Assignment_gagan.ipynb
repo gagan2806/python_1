{
  "nbformat": 4,
  "nbformat_minor": 0,
  "metadata": {
    "colab": {
      "name": "Assignment_gagan",
      "provenance": [],
      "authorship_tag": "ABX9TyNwIjkIr2MbRoNESFg2BZCv",
      "include_colab_link": true
    },
    "kernelspec": {
      "name": "python3",
      "display_name": "Python 3"
    },
    "language_info": {
      "name": "python"
    }
  },
  "cells": [
    {
      "cell_type": "markdown",
      "metadata": {
        "id": "view-in-github",
        "colab_type": "text"
      },
      "source": [
        "<a href=\"https://colab.research.google.com/github/gagan2806/python_1/blob/main/Assignment_gagan.ipynb\" target=\"_parent\"><img src=\"https://colab.research.google.com/assets/colab-badge.svg\" alt=\"Open In Colab\"/></a>"
      ]
    },
    {
      "cell_type": "code",
      "source": [
        "                                        #assignment 1\n",
        "list1=[1,2,3,4,5]\n",
        "list2=[1,2,3]\n",
        "list3=list1<list2\n",
        "print(list3)\n",
        "list4=list1>list2\n",
        "print(list4)\n",
        "list5=list1==list2\n",
        "print(list5)\n",
        "list6=list1<=list2\n",
        "print(list6)\n",
        "list7=list1>=list2\n",
        "print(list7)\n",
        "list8=list1 is not list2\n",
        "print(list8)\n",
        "list9=list1+list2\n",
        "print(list9)"
      ],
      "metadata": {
        "colab": {
          "base_uri": "https://localhost:8080/"
        },
        "id": "lfcQ8ZJqSBFR",
        "outputId": "c9ec30df-6a89-4bae-d16a-5c5e4726dae4"
      },
      "execution_count": null,
      "outputs": [
        {
          "output_type": "stream",
          "name": "stdout",
          "text": [
            "False\n",
            "True\n",
            "False\n",
            "False\n",
            "True\n",
            "True\n",
            "[1, 2, 3, 4, 5, 1, 2, 3]\n"
          ]
        }
      ]
    },
    {
      "cell_type": "code",
      "source": [
        "                                                #assignment 1\n",
        "tuple1=(10,20,30,40,50)\n",
        "tuple2=(10,20,30,40,50)\n",
        "tuple3=tuple1<tuple2\n",
        "print(tuple3)\n",
        "tuple4=tuple1>tuple2\n",
        "print(tuple4)\n",
        "tuple5=tuple1<=tuple2\n",
        "print(tuple5)\n",
        "tuple6=tuple1+tuple2\n",
        "print(tuple6)\n",
        "tuple7=tuple1==tuple2\n",
        "print(tuple7)\n",
        "tuple8=tuple1 is not tuple2\n",
        "print(tuple8)"
      ],
      "metadata": {
        "colab": {
          "base_uri": "https://localhost:8080/"
        },
        "id": "XNzH65K-f04-",
        "outputId": "a4779a9b-489f-48ab-dc28-3558ebee2dc4"
      },
      "execution_count": null,
      "outputs": [
        {
          "output_type": "stream",
          "name": "stdout",
          "text": [
            "False\n",
            "False\n",
            "True\n",
            "(10, 20, 30, 40, 50, 10, 20, 30, 40, 50)\n",
            "True\n",
            "True\n"
          ]
        }
      ]
    },
    {
      "cell_type": "code",
      "source": [
        "                                          #assignment 1\n",
        "set1={'hello','this','is'}\n",
        "set2={'an','assignment','is'}\n",
        "set3=set1|set2\n",
        "print(set3)\n",
        "set4=set1&set2\n",
        "print(set4)\n",
        "set5=set1^set2\n",
        "print(set5)\n",
        "set6=set1<set2\n",
        "print(set6)\n",
        "set7=set1<=set2\n",
        "print(set7)"
      ],
      "metadata": {
        "colab": {
          "base_uri": "https://localhost:8080/"
        },
        "id": "X1eUlp_RjJab",
        "outputId": "54a68292-4499-4d5c-8aed-892b169ef1b4"
      },
      "execution_count": null,
      "outputs": [
        {
          "output_type": "stream",
          "name": "stdout",
          "text": [
            "{'assignment', 'this', 'hello', 'an', 'is'}\n",
            "{'is'}\n",
            "{'assignment', 'this', 'hello', 'an'}\n",
            "False\n",
            "False\n"
          ]
        }
      ]
    },
    {
      "cell_type": "code",
      "source": [
        "                                                             #assignment 1\n",
        "dic1={\"key1\":\"100\",\"key2\":\"200\",\"key3\":\"300\"}\n",
        "dic2={\"key1\":\"100\",\"key2\":\"200\",\"key3\":\"300\",\"key4\":\"400\"}\n",
        "x1=dic1.keys() & dic2.keys()\n",
        "print(x1)\n",
        "x2=dic1.keys() - dic2.keys()\n",
        "print(x2)\n",
        "x2=dic2.keys() - dic1.keys()\n",
        "print(x2)\n",
        "x3=dic1.keys() | dic2.keys()\n",
        "print(x3)\n",
        "x4=dic1.items() & dic2.items()\n",
        "print(x4)\n",
        "x4=dic1.items() - dic2.items()\n",
        "print(x4)\n",
        "x4=dic2.items() - dic1.items()\n",
        "print(x4)\n",
        "x4=dic1.items() | dic2.items()\n",
        "print(x4)\n",
        "print(set(dic1)>=set(dic2))\n",
        "print(set(dic2)>=set(dic1))"
      ],
      "metadata": {
        "colab": {
          "base_uri": "https://localhost:8080/"
        },
        "id": "W2bM8bvS3cRL",
        "outputId": "ab5d3ae4-5ab4-4252-d76d-e94eee0437c3"
      },
      "execution_count": null,
      "outputs": [
        {
          "output_type": "stream",
          "name": "stdout",
          "text": [
            "{'key2', 'key3', 'key1'}\n",
            "set()\n",
            "{'key4'}\n",
            "{'key4', 'key2', 'key3', 'key1'}\n",
            "{('key2', '200'), ('key1', '100'), ('key3', '300')}\n",
            "set()\n",
            "{('key4', '400')}\n",
            "{('key2', '200'), ('key4', '400'), ('key1', '100'), ('key3', '300')}\n",
            "False\n",
            "True\n"
          ]
        }
      ]
    },
    {
      "cell_type": "code",
      "source": [
        "                                              #assignment 2\n",
        "x=int(input(\"enter the fist operand\"))\n",
        "y=int(input(\"enter the second operand\"))\n",
        "operand=input(\"enter the operator\")\n",
        "if operand == \"+\":\n",
        " op=x+y\n",
        "elif operand == '-':\n",
        " op=x-y\n",
        "elif operand == '*':\n",
        " op=x*y\n",
        "elif operand == '/':\n",
        " op=x/y\n",
        "print(\"answer is\",op)\n",
        "\n"
      ],
      "metadata": {
        "colab": {
          "base_uri": "https://localhost:8080/"
        },
        "id": "6nbNhndXVGsF",
        "outputId": "21154c58-7f8a-4544-d3d4-371fb4d320ba"
      },
      "execution_count": null,
      "outputs": [
        {
          "output_type": "stream",
          "name": "stdout",
          "text": [
            "enter the fist operand 12\n",
            "enter the second operand 4\n",
            "enter the operator *\n",
            "answer is 48\n"
          ]
        }
      ]
    },
    {
      "cell_type": "code",
      "source": [
        "                                        # assignment 3\n",
        "                                  #r+ helps to read a file and then write \n",
        "f=open(\"print.txt\",\"r+\")\n",
        "data=f.read()\n",
        "f.write(\" written by me\")\n",
        "print(data)"
      ],
      "metadata": {
        "colab": {
          "base_uri": "https://localhost:8080/"
        },
        "id": "esb68SpHO5GI",
        "outputId": "66adfcd9-b236-412b-fdab-826f06cca7a2"
      },
      "execution_count": null,
      "outputs": [
        {
          "output_type": "stream",
          "name": "stdout",
          "text": [
            "This is a file\n"
          ]
        }
      ]
    },
    {
      "cell_type": "code",
      "source": [
        "                                    #assignment 3\n",
        "                                #a+ helps to write some text and then read a file by overwriting that file\n",
        "f=open(\"print.txt\",\"w+\")\n",
        "print(f.tell())\n",
        "f.write(\"hello\")\n",
        "print(f.tell())\n",
        "f.seek(0)\n",
        "data=f.read()\n",
        "print(f.tell())\n",
        "print(data)"
      ],
      "metadata": {
        "colab": {
          "base_uri": "https://localhost:8080/"
        },
        "id": "t_ONoaDCQH9I",
        "outputId": "2fa9ca3d-ce93-40a9-cc88-a232fa5beb16"
      },
      "execution_count": null,
      "outputs": [
        {
          "output_type": "stream",
          "name": "stdout",
          "text": [
            "0\n",
            "5\n",
            "5\n",
            "hello\n"
          ]
        }
      ]
    },
    {
      "cell_type": "code",
      "source": [
        "                                       #assignment 3             \n",
        "                      #a+ helps to append some text and then read a file   without overwriting that file\n",
        "f=open(\"file.txt\",\"a+\")\n",
        "f.write(\"\\n great\")\n",
        "data=f.read()\n",
        "print(data)\n",
        "                    # prints/appends 'great' into the file"
      ],
      "metadata": {
        "colab": {
          "base_uri": "https://localhost:8080/"
        },
        "id": "8aRem5ZrQm9b",
        "outputId": "4f21db22-949e-4361-e46a-d320d343e3a0"
      },
      "execution_count": null,
      "outputs": [
        {
          "output_type": "stream",
          "name": "stdout",
          "text": [
            "\n"
          ]
        }
      ]
    },
    {
      "cell_type": "code",
      "source": [
        "                                   # assignment 4\n",
        "def data(store,customer,*a,**b):\n",
        "  print(store)\n",
        "  print(customer)\n",
        "  print(\"books purchased:\\n\")\n",
        "  for num in a:\n",
        "   print(num)\n",
        "  print(\"\\nFees to be paid for each book:\\n\")\n",
        "  for fee in b:\n",
        "   print(fee,b[fee])\n",
        "data(\"    **Ganesh stores**   \",\"Rahul\",\"programming using python\",\"advanced python developement\",\n",
        "     programming_using_python=200,advanced_python_developement=100)"
      ],
      "metadata": {
        "colab": {
          "base_uri": "https://localhost:8080/"
        },
        "id": "zG8mjotAcbqW",
        "outputId": "5447b1f9-377a-47a0-ba60-81dad79e0627"
      },
      "execution_count": null,
      "outputs": [
        {
          "output_type": "stream",
          "name": "stdout",
          "text": [
            "    **Ganesh stores**   \n",
            "Rahul\n",
            "books purchased:\n",
            "\n",
            "programming using python\n",
            "advanced python developement\n",
            "\n",
            "Fees to be paid for each book:\n",
            "\n",
            "programming_using_python 200\n",
            "advanced_python_developement 100\n"
          ]
        }
      ]
    },
    {
      "cell_type": "code",
      "source": [
        "                                         #assignment 5\n",
        "n=int(input(\"enter the number\"))\n",
        "for i in range(1,11):\n",
        "   print(n,\"*\",i,\"=\",n*i)"
      ],
      "metadata": {
        "colab": {
          "base_uri": "https://localhost:8080/"
        },
        "id": "VMyOMWnri764",
        "outputId": "16d700b8-be44-4763-da45-967f43a2eb87"
      },
      "execution_count": 13,
      "outputs": [
        {
          "output_type": "stream",
          "name": "stdout",
          "text": [
            "enter the number 9\n",
            "9 * 1 = 9\n",
            "9 * 2 = 18\n",
            "9 * 3 = 27\n",
            "9 * 4 = 36\n",
            "9 * 5 = 45\n",
            "9 * 6 = 54\n",
            "9 * 7 = 63\n",
            "9 * 8 = 72\n",
            "9 * 9 = 81\n",
            "9 * 10 = 90\n"
          ]
        }
      ]
    },
    {
      "cell_type": "code",
      "source": [
        "                                       #assignment 6\n",
        "def gen():\n",
        "  print(\"the first number is\")\n",
        "  yield 12\n",
        "  print(\"the second number is\")\n",
        "  yield 15\n",
        "g=gen()\n",
        "next(g)\n"
      ],
      "metadata": {
        "id": "nSgT5JxcceY4",
        "colab": {
          "base_uri": "https://localhost:8080/"
        },
        "outputId": "8e056991-007f-48e6-d543-ca1bd6d3cf7a"
      },
      "execution_count": 10,
      "outputs": [
        {
          "output_type": "stream",
          "name": "stdout",
          "text": [
            "the first number is\n"
          ]
        },
        {
          "output_type": "execute_result",
          "data": {
            "text/plain": [
              "12"
            ]
          },
          "metadata": {},
          "execution_count": 10
        }
      ]
    },
    {
      "cell_type": "code",
      "source": [
        "next(g)"
      ],
      "metadata": {
        "colab": {
          "base_uri": "https://localhost:8080/"
        },
        "id": "7GsbLdLwijpo",
        "outputId": "c6924270-6edc-4a30-89c8-2bcab381a40a"
      },
      "execution_count": 11,
      "outputs": [
        {
          "output_type": "stream",
          "name": "stdout",
          "text": [
            "the second number is\n"
          ]
        },
        {
          "output_type": "execute_result",
          "data": {
            "text/plain": [
              "15"
            ]
          },
          "metadata": {},
          "execution_count": 11
        }
      ]
    }
  ]
}